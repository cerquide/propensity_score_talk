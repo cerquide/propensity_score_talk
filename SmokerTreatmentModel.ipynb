{
 "cells": [
  {
   "cell_type": "code",
   "execution_count": 80,
   "metadata": {},
   "outputs": [],
   "source": [
    "import pyAgrum as gum\n",
    "import pyAgrum.lib.notebook as gnb"
   ]
  },
  {
   "cell_type": "code",
   "execution_count": 58,
   "metadata": {},
   "outputs": [],
   "source": [
    "bn=gum.BayesNet('SmokerTreatment')"
   ]
  },
  {
   "cell_type": "code",
   "execution_count": 59,
   "metadata": {},
   "outputs": [],
   "source": [
    "smoker = bn.add('smoker',2)\n",
    "treatment = bn.add('treatment',2)\n",
    "dead = bn.add('dead',2)"
   ]
  },
  {
   "cell_type": "code",
   "execution_count": 60,
   "metadata": {},
   "outputs": [],
   "source": [
    "bn.addArc(smoker,treatment)\n",
    "bn.addArc(smoker,dead)\n",
    "bn.addArc(treatment,dead)"
   ]
  },
  {
   "cell_type": "code",
   "execution_count": 75,
   "metadata": {},
   "outputs": [
    {
     "name": "stdout",
     "output_type": "stream",
     "text": [
      "['treatment', 'smoker', 'dead']\n"
     ]
    }
   ],
   "source": [
    "bn.cpt(smoker)[:]=[0.7,0.3]\n",
    "bn.cpt(treatment)[:]=[[0.8,0.2],[0.45,0.55]]\n",
    "print(bn.cpt(dead).var_names)\n",
    "bn.cpt(dead)[:]=[[[0.9,0.1],[0.2,0.8]],[[0.89,0.11],[0.5,0.5]]]"
   ]
  },
  {
   "cell_type": "code",
   "execution_count": 62,
   "metadata": {},
   "outputs": [
    {
     "data": {
      "text/html": [
       "<table style=\"border-style: hidden; border-collapse: collapse;\" width=\"100%\"><tr><td style=\"border-top:hidden;border-bottom:hidden;\"><div align=\"center\" style=\"\"><svg height=\"188pt\" viewBox=\"0.00 0.00 125.24 188.00\" width=\"125pt\" xmlns=\"http://www.w3.org/2000/svg\" xmlns:xlink=\"http://www.w3.org/1999/xlink\">\n",
       "<g class=\"graph\" id=\"graph0\" transform=\"scale(1 1) rotate(0) translate(4 184)\">\n",
       "<title>G</title>\n",
       "<!-- smoker -->\n",
       "<g class=\"node\" id=\"node1\">\n",
       "<title>smoker</title>\n",
       "<g id=\"a_node1\"><a xlink:title=\"(0) smoker\">\n",
       "<ellipse cx=\"80.2\" cy=\"-162\" fill=\"#404040\" rx=\"37.09\" ry=\"18\" stroke=\"black\"/>\n",
       "<text fill=\"white\" font-family=\"Times,serif\" font-size=\"14.00\" text-anchor=\"middle\" x=\"80.2\" y=\"-158.3\">smoker</text>\n",
       "</a>\n",
       "</g>\n",
       "</g>\n",
       "<!-- treatment -->\n",
       "<g class=\"node\" id=\"node2\">\n",
       "<title>treatment</title>\n",
       "<g id=\"a_node2\"><a xlink:title=\"(1) treatment\">\n",
       "<ellipse cx=\"44.2\" cy=\"-90\" fill=\"#404040\" rx=\"44.39\" ry=\"18\" stroke=\"black\"/>\n",
       "<text fill=\"white\" font-family=\"Times,serif\" font-size=\"14.00\" text-anchor=\"middle\" x=\"44.2\" y=\"-86.3\">treatment</text>\n",
       "</a>\n",
       "</g>\n",
       "</g>\n",
       "<!-- smoker&#45;&gt;treatment -->\n",
       "<g class=\"edge\" id=\"edge1\">\n",
       "<title>smoker-&gt;treatment</title>\n",
       "<g id=\"a_edge1\"><a xlink:title=\"(0, 1) : \">\n",
       "<path d=\"M71.66,-144.41C67.47,-136.25 62.31,-126.22 57.6,-117.07\" fill=\"none\" stroke=\"#4a4a4a\"/>\n",
       "<polygon fill=\"#4a4a4a\" points=\"60.6,-115.25 52.92,-107.96 54.38,-118.45 60.6,-115.25\" stroke=\"#4a4a4a\"/>\n",
       "</a>\n",
       "</g>\n",
       "</g>\n",
       "<!-- dead -->\n",
       "<g class=\"node\" id=\"node3\">\n",
       "<title>dead</title>\n",
       "<g id=\"a_node3\"><a xlink:title=\"(2) dead\">\n",
       "<ellipse cx=\"80.2\" cy=\"-18\" fill=\"#404040\" rx=\"27.1\" ry=\"18\" stroke=\"black\"/>\n",
       "<text fill=\"white\" font-family=\"Times,serif\" font-size=\"14.00\" text-anchor=\"middle\" x=\"80.2\" y=\"-14.3\">dead</text>\n",
       "</a>\n",
       "</g>\n",
       "</g>\n",
       "<!-- smoker&#45;&gt;dead -->\n",
       "<g class=\"edge\" id=\"edge2\">\n",
       "<title>smoker-&gt;dead</title>\n",
       "<g id=\"a_edge2\"><a xlink:title=\"(0, 2) : \">\n",
       "<path d=\"M87.09,-144.14C90.9,-133.88 95.25,-120.41 97.2,-108 99.67,-92.19 99.67,-87.81 97.2,-72 95.82,-63.18 93.22,-53.82 90.46,-45.46\" fill=\"none\" stroke=\"#4a4a4a\"/>\n",
       "<polygon fill=\"#4a4a4a\" points=\"93.7,-44.13 87.09,-35.86 87.1,-46.45 93.7,-44.13\" stroke=\"#4a4a4a\"/>\n",
       "</a>\n",
       "</g>\n",
       "</g>\n",
       "<!-- treatment&#45;&gt;dead -->\n",
       "<g class=\"edge\" id=\"edge3\">\n",
       "<title>treatment-&gt;dead</title>\n",
       "<g id=\"a_edge3\"><a xlink:title=\"(1, 2) : \">\n",
       "<path d=\"M52.91,-72.05C57.17,-63.77 62.39,-53.62 67.12,-44.42\" fill=\"none\" stroke=\"#4a4a4a\"/>\n",
       "<polygon fill=\"#4a4a4a\" points=\"70.35,-45.8 71.81,-35.31 64.12,-42.6 70.35,-45.8\" stroke=\"#4a4a4a\"/>\n",
       "</a>\n",
       "</g>\n",
       "</g>\n",
       "</g>\n",
       "</svg></div></td><td style=\"border-top:hidden;border-bottom:hidden;\"><div align=\"center\" style=\"\"><table style=\"border:1px solid black;\">\n",
       "<tr style='border:1px solid black;color:black;background-color:#808080'><th colspan='2'><center>smoker</center></th></tr>\n",
       "<tr><th style='border:1px solid black;border-bottom-style: double;color:black;background-color:#BBBBBB'><center>0</center></th><th style='border:1px solid black;border-bottom-style: double;color:black;background-color:#BBBBBB'><center>1</center></th></tr>\n",
       "<tr><td style='color:black;background-color:#a5d864;text-align:right;'>0.7000</td><td style='color:black;background-color:#d8a564;text-align:right;'>0.3000</td></tr>\n",
       "</table></div></td><td style=\"border-top:hidden;border-bottom:hidden;\"><div align=\"center\" style=\"\"><table style=\"border:1px solid black;\">\n",
       "<tr><th colspan='1'></th><th colspan='2' style='border:1px solid black;color:black;background-color:#808080;'><center>treatment</center></th></tr>\n",
       "<tr><th style='border:1px solid black;color:black;background-color:#808080'><center>smoker</center></th><th style='border:1px solid black;border-bottom-style: double;color:black;background-color:#BBBBBB'><center>0</center></th><th style='border:1px solid black;border-bottom-style: double;color:black;background-color:#BBBBBB'><center>1</center></th></tr>\n",
       "<tr><th style='border:1px solid black;color:black;background-color:#BBBBBB'><center>0</center></th><td style='color:black;background-color:#98e564;text-align:right;'>0.8000</td><td style='color:black;background-color:#e59864;text-align:right;'>0.2000</td></tr>\n",
       "<tr><th style='border:1px solid black;color:black;background-color:#BBBBBB'><center>1</center></th><td style='color:black;background-color:#c5b864;text-align:right;'>0.4500</td><td style='color:black;background-color:#b8c564;text-align:right;'>0.5500</td></tr>\n",
       "</table></div></td><td style=\"border-top:hidden;border-bottom:hidden;\"><div align=\"center\" style=\"\"><table style=\"border:1px solid black;\">\n",
       "<tr><th colspan='2'></th><th colspan='2' style='border:1px solid black;color:black;background-color:#808080;'><center>dead</center></th></tr>\n",
       "<tr><th style='border:1px solid black;color:black;background-color:#808080'><center>treatment</center></th><th style='border:1px solid black;color:black;background-color:#808080'><center>smoker</center></th><th style='border:1px solid black;border-bottom-style: double;color:black;background-color:#BBBBBB'><center>0</center></th><th style='border:1px solid black;border-bottom-style: double;color:black;background-color:#BBBBBB'><center>1</center></th></tr>\n",
       "<tr><th style='border:1px solid black;color:black;background-color:#BBBBBB;' rowspan = '2'><center>0</center></th><th style='border:1px solid black;color:black;background-color:#BBBBBB'><center>0</center></th><td style='color:black;background-color:#8bf264;text-align:right;'>0.9000</td><td style='color:black;background-color:#f28b64;text-align:right;'>0.1000</td></tr>\n",
       "<tr><th style='border:1px solid black;color:black;background-color:#BBBBBB'><center>1</center></th><td style='color:black;background-color:#e59864;text-align:right;'>0.2000</td><td style='color:black;background-color:#98e564;text-align:right;'>0.8000</td></tr>\n",
       "<tr><th style='border:1px solid black;color:black;background-color:#BBBBBB;' rowspan = '2'><center>1</center></th><th style='border:1px solid black;color:black;background-color:#BBBBBB'><center>0</center></th><td style='color:black;background-color:#8df064;text-align:right;'>0.8900</td><td style='color:black;background-color:#f08d64;text-align:right;'>0.1100</td></tr>\n",
       "<tr><th style='border:1px solid black;color:black;background-color:#BBBBBB'><center>1</center></th><td style='color:black;background-color:#bfbf64;text-align:right;'>0.5000</td><td style='color:black;background-color:#bfbf64;text-align:right;'>0.5000</td></tr>\n",
       "</table></div></td></tr></table>"
      ],
      "text/plain": [
       "<IPython.core.display.HTML object>"
      ]
     },
     "metadata": {},
     "output_type": "display_data"
    }
   ],
   "source": [
    "gnb.sideBySide(bn, bn.cpt(\"smoker\"),bn.cpt(\"treatment\"),bn.cpt(\"dead\"))"
   ]
  },
  {
   "cell_type": "markdown",
   "metadata": {},
   "source": [
    "### Question: How much will number of deads change if we decide treat everybody from now on with respect to not treating anyone?"
   ]
  },
  {
   "cell_type": "markdown",
   "metadata": {},
   "source": [
    "\\begin{align}\n",
    "p(dead=1|do(treatment=1))=p(smoker=0)p(dead=1|treatment=1,smoker=0) + \\\\ p(smoker=1)p(dead=1|treatment=1,smoker=1)\n",
    "\\end{align}"
   ]
  },
  {
   "cell_type": "code",
   "execution_count": 71,
   "metadata": {},
   "outputs": [
    {
     "data": {
      "text/plain": [
       "0.22699999999999998"
      ]
     },
     "execution_count": 71,
     "metadata": {},
     "output_type": "execute_result"
    }
   ],
   "source": [
    "expected_dead_if_treated = bn.cpt(\"smoker\")[0]*bn.cpt(\"dead\")[1,0,1] + bn.cpt(\"smoker\")[1]*bn.cpt(\"dead\")[1,1,1]\n",
    "expected_dead_if_treated"
   ]
  },
  {
   "cell_type": "markdown",
   "metadata": {},
   "source": [
    "\\begin{align}\n",
    "p(dead=1|do(treatment=0))=p(smoker=0)p(dead=1|treatment=0,smoker=0) + \\\\ p(smoker=1)p(dead=1|treatment=0,smoker=1)\n",
    "\\end{align}"
   ]
  },
  {
   "cell_type": "code",
   "execution_count": 72,
   "metadata": {},
   "outputs": [
    {
     "data": {
      "text/plain": [
       "0.31"
      ]
     },
     "execution_count": 72,
     "metadata": {},
     "output_type": "execute_result"
    }
   ],
   "source": [
    "expected_dead_if_untreated = bn.cpt(\"smoker\")[0]*bn.cpt(\"dead\")[0,0,1] + bn.cpt(\"smoker\")[1]*bn.cpt(\"dead\")[0,1,1]\n",
    "expected_dead_if_untreated"
   ]
  },
  {
   "cell_type": "code",
   "execution_count": 73,
   "metadata": {},
   "outputs": [
    {
     "data": {
      "text/plain": [
       "-0.08300000000000002"
      ]
     },
     "execution_count": 73,
     "metadata": {},
     "output_type": "execute_result"
    }
   ],
   "source": [
    "ATE = expected_dead_in_treated - expected_dead_in_untreated\n",
    "ATE"
   ]
  },
  {
   "cell_type": "markdown",
   "metadata": {},
   "source": [
    "### Response: The percentage of deads will decrease a 8.3% (it will go down from 31% to 22.7%). \n",
    "### Consequently, we SHOULD TREAT our population."
   ]
  },
  {
   "cell_type": "code",
   "execution_count": 66,
   "metadata": {},
   "outputs": [],
   "source": [
    "gen = gum.BNDatabaseGenerator(bn)"
   ]
  },
  {
   "cell_type": "code",
   "execution_count": 67,
   "metadata": {},
   "outputs": [],
   "source": [
    "d = gen.drawSamples(1000000)"
   ]
  },
  {
   "cell_type": "code",
   "execution_count": 68,
   "metadata": {},
   "outputs": [],
   "source": [
    "gen.toCSV(\"sample\")"
   ]
  },
  {
   "cell_type": "code",
   "execution_count": 79,
   "metadata": {},
   "outputs": [
    {
     "data": {
      "text/html": [
       "<svg height=\"188pt\" viewBox=\"0.00 0.00 89.00 188.00\" width=\"89pt\" xmlns=\"http://www.w3.org/2000/svg\" xmlns:xlink=\"http://www.w3.org/1999/xlink\">\n",
       "<g class=\"graph\" id=\"graph0\" transform=\"scale(1 1) rotate(0) translate(4 184)\">\n",
       "<title>G</title>\n",
       "<!-- t -->\n",
       "<g class=\"node\" id=\"node1\">\n",
       "<title>t</title>\n",
       "<g id=\"a_node1\"><a xlink:title=\"(0) t\">\n",
       "<ellipse cx=\"27\" cy=\"-90\" fill=\"#404040\" rx=\"27\" ry=\"18\" stroke=\"black\"/>\n",
       "<text fill=\"white\" font-family=\"Times,serif\" font-size=\"14.00\" text-anchor=\"middle\" x=\"27\" y=\"-86.3\">t</text>\n",
       "</a>\n",
       "</g>\n",
       "</g>\n",
       "<!-- r -->\n",
       "<g class=\"node\" id=\"node2\">\n",
       "<title>r</title>\n",
       "<g id=\"a_node2\"><a xlink:title=\"(1) r\">\n",
       "<ellipse cx=\"54\" cy=\"-18\" fill=\"#404040\" rx=\"27\" ry=\"18\" stroke=\"black\"/>\n",
       "<text fill=\"white\" font-family=\"Times,serif\" font-size=\"14.00\" text-anchor=\"middle\" x=\"54\" y=\"-14.3\">r</text>\n",
       "</a>\n",
       "</g>\n",
       "</g>\n",
       "<!-- t&#45;&gt;r -->\n",
       "<g class=\"edge\" id=\"edge1\">\n",
       "<title>t-&gt;r</title>\n",
       "<g id=\"a_edge1\"><a xlink:title=\"(0, 1) : \">\n",
       "<path d=\"M33.4,-72.41C36.51,-64.34 40.33,-54.43 43.83,-45.35\" fill=\"none\" stroke=\"#4a4a4a\"/>\n",
       "<polygon fill=\"#4a4a4a\" points=\"47.13,-46.55 47.46,-35.96 40.6,-44.03 47.13,-46.55\" stroke=\"#4a4a4a\"/>\n",
       "</a>\n",
       "</g>\n",
       "</g>\n",
       "<!-- x -->\n",
       "<g class=\"node\" id=\"node3\">\n",
       "<title>x</title>\n",
       "<g id=\"a_node3\"><a xlink:title=\"(2) x\">\n",
       "<ellipse cx=\"54\" cy=\"-162\" fill=\"#404040\" rx=\"27\" ry=\"18\" stroke=\"black\"/>\n",
       "<text fill=\"white\" font-family=\"Times,serif\" font-size=\"14.00\" text-anchor=\"middle\" x=\"54\" y=\"-158.3\">x</text>\n",
       "</a>\n",
       "</g>\n",
       "</g>\n",
       "<!-- x&#45;&gt;t -->\n",
       "<g class=\"edge\" id=\"edge2\">\n",
       "<title>x-&gt;t</title>\n",
       "<g id=\"a_edge2\"><a xlink:title=\"(2, 0) : \">\n",
       "<path d=\"M47.6,-144.41C44.49,-136.34 40.67,-126.43 37.17,-117.35\" fill=\"none\" stroke=\"#4a4a4a\"/>\n",
       "<polygon fill=\"#4a4a4a\" points=\"40.4,-116.03 33.54,-107.96 33.87,-118.55 40.4,-116.03\" stroke=\"#4a4a4a\"/>\n",
       "</a>\n",
       "</g>\n",
       "</g>\n",
       "<!-- x&#45;&gt;r -->\n",
       "<g class=\"edge\" id=\"edge3\">\n",
       "<title>x-&gt;r</title>\n",
       "<g id=\"a_edge3\"><a xlink:title=\"(2, 1) : \">\n",
       "<path d=\"M57.65,-143.91C59.68,-133.57 61.98,-120.09 63,-108 64.34,-92.06 64.34,-87.94 63,-72 62.28,-63.5 60.93,-54.31 59.49,-46.01\" fill=\"none\" stroke=\"#4a4a4a\"/>\n",
       "<polygon fill=\"#4a4a4a\" points=\"62.91,-45.29 57.65,-36.09 56.03,-46.56 62.91,-45.29\" stroke=\"#4a4a4a\"/>\n",
       "</a>\n",
       "</g>\n",
       "</g>\n",
       "</g>\n",
       "</svg>"
      ],
      "text/plain": [
       "(gum::BayesNet<double>@0x55edc02a0950) BN{nodes: 3, arcs: 3, domainSize: 8, dim: 14}"
      ]
     },
     "execution_count": 79,
     "metadata": {},
     "output_type": "execute_result"
    }
   ],
   "source": [
    "gum.fastBN('t->r<-x->t')"
   ]
  },
  {
   "cell_type": "code",
   "execution_count": null,
   "metadata": {},
   "outputs": [],
   "source": []
  }
 ],
 "metadata": {
  "kernelspec": {
   "display_name": "Python 3",
   "language": "python",
   "name": "python3"
  },
  "language_info": {
   "codemirror_mode": {
    "name": "ipython",
    "version": 3
   },
   "file_extension": ".py",
   "mimetype": "text/x-python",
   "name": "python",
   "nbconvert_exporter": "python",
   "pygments_lexer": "ipython3",
   "version": "3.7.4"
  }
 },
 "nbformat": 4,
 "nbformat_minor": 4
}
